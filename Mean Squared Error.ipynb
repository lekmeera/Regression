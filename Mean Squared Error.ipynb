{
 "cells": [
  {
   "cell_type": "code",
   "execution_count": 1,
   "metadata": {},
   "outputs": [],
   "source": [
    "# Cross Validation Regression MSE \n",
    "from pandas import read_csv \n",
    "from sklearn.model_selection import KFold\n",
    "from sklearn.model_selection import cross_val_score \n",
    "from sklearn.linear_model import LinearRegression "
   ]
  },
  {
   "cell_type": "code",
   "execution_count": 2,
   "metadata": {},
   "outputs": [],
   "source": [
    "names = ['CRIM', 'ZN', 'INDUS', 'CHAS', 'NOX', 'RM', 'AGE', 'DIS', 'RAD', 'TAX', 'PTRATIO', 'B', 'LSTAT', 'MEDV']\n",
    "dataframe = read_csv('housing.csv' , delim_whitespace=True, names=names) \n",
    "array = dataframe.values \n",
    "\n",
    "X = array[:,0:13] \n",
    "Y = array[:,13] "
   ]
  },
  {
   "cell_type": "code",
   "execution_count": 4,
   "metadata": {},
   "outputs": [
    {
     "name": "stdout",
     "output_type": "stream",
     "text": [
      "MSE: -34.70525594452499 \n",
      "Standard Deviation 45.573999200308876\n"
     ]
    }
   ],
   "source": [
    "#Using Liear Regression model\n",
    "kfold = KFold(n_splits=10, random_state=7)\n",
    "model = LinearRegression() \n",
    "\n",
    "results = cross_val_score(model, X, Y, cv=kfold, scoring='neg_mean_squared_error' ) \n",
    "\n",
    "#calculating Mean Squared Error and Standard deviation\n",
    "print(\"MSE:\",results.mean(),\"\\nStandard Deviation\", results.std()) "
   ]
  }
 ],
 "metadata": {
  "kernelspec": {
   "display_name": "Python 3",
   "language": "python",
   "name": "python3"
  },
  "language_info": {
   "codemirror_mode": {
    "name": "ipython",
    "version": 3
   },
   "file_extension": ".py",
   "mimetype": "text/x-python",
   "name": "python",
   "nbconvert_exporter": "python",
   "pygments_lexer": "ipython3",
   "version": "3.7.4"
  }
 },
 "nbformat": 4,
 "nbformat_minor": 2
}
